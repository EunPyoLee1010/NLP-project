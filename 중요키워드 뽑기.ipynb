{
 "cells": [
  {
   "cell_type": "code",
   "execution_count": 1,
   "metadata": {},
   "outputs": [],
   "source": [
    "from gensim.models import FastText\n",
    "from gensim.test.utils import common_texts\n",
    "from gensim.test.utils import datapath\n",
    "from konlpy.tag import Okt"
   ]
  },
  {
   "cell_type": "code",
   "execution_count": 2,
   "metadata": {},
   "outputs": [
    {
     "name": "stdout",
     "output_type": "stream",
     "text": [
      "D:\\jupyter_notebook\\data\\New_model\n"
     ]
    }
   ],
   "source": [
    "cd data\\New_model"
   ]
  },
  {
   "cell_type": "code",
   "execution_count": 3,
   "metadata": {},
   "outputs": [],
   "source": [
    "#학습시킨 모델 불러오기\n",
    "model = FastText.load(\"New_model.bin\")"
   ]
  },
  {
   "cell_type": "code",
   "execution_count": 42,
   "metadata": {},
   "outputs": [],
   "source": [
    "#키워드 추출 함수\n",
    "def keyword(sentence):\n",
    "    okt = Okt()\n",
    "    #문장길이 짧을 경우 패스\n",
    "    if len(sentence) < 2:\n",
    "        print(\"알림 문장의 길이가 충분하지 않아 건너뜁니다.\")\n",
    "        return\n",
    "    sent = okt.pos(sentence, stem=True)\n",
    "    words = []\n",
    "    for i in sent:\n",
    "        if not i[1] == 'Noun' and not i[1] == 'Verb' and not i[1] == 'Adjective' and not i[1] == 'Adverb' and not i[1] == 'Number':\n",
    "            continue\n",
    "        words.append(i[0])\n",
    "    #키워드 4개를 뽑는 것이 목표인데 4개 이하인 경우 그렇지 못하므로 그래도 출력\n",
    "    if len(words) < 5:\n",
    "        print(\"키워드 4개를 추출하지 못하여 그대로 출력합니다.\")\n",
    "        print(words)\n",
    "    else:\n",
    "        #모든 단어간의 유사도를 계산하여 합산\n",
    "        print(words)\n",
    "        simi_sum = []\n",
    "        simi_score = []\n",
    "        n = len(words)\n",
    "        for i in range(0, n):\n",
    "            scores = []\n",
    "            for j in range(0, n):\n",
    "                if i is j:\n",
    "                    continue\n",
    "                #print(\"similarity {0} - {1} : {2}\".format(words[i], words[j], model.wv.similarity(words[i], words[j])))\n",
    "                scores.append(model.wv.similarity(words[i], words[j]))\n",
    "            simi_score.append(scores)\n",
    "            simi_sum.append(sum(scores))\n",
    "        #가장 큰 유사도 점수를 통하여 대표 단어 1개 설정\n",
    "        #print(\"simi_sum: \", simi_sum)\n",
    "        #print(\"simi_score: \", simi_score)\n",
    "        max_index = simi_sum.index(max(simi_sum))\n",
    "        max_word = words[max_index]\n",
    "        del words[max_index]\n",
    "        #print(words)\n",
    "        #print(max_word)\n",
    "        #print(simi_score[max_index])\n",
    "        #그 단어와 유사도가 높은 단어 순으로 3개 선발\n",
    "        word_score = {}\n",
    "        for word, score in zip(words, simi_score[max_index]):\n",
    "            if word is max_word:\n",
    "                continue\n",
    "            word_score[word] = score\n",
    "        keyword = sorted(word_score.items(), key=lambda x: x[1], reverse= True)\n",
    "        #print(word_score)\n",
    "        #print(keyword)\n",
    "        print(\"핵심 단어는 \")\n",
    "        print(max_word, end=\", \")\n",
    "        for i in range(0,3):\n",
    "            print(keyword[i][0], end=\", \")\n",
    "        print(\"입니다.\")\n",
    "        #딕셔너리로 \n",
    "        #a.sort(reverse=True)"
   ]
  },
  {
   "cell_type": "code",
   "execution_count": 7,
   "metadata": {},
   "outputs": [],
   "source": [
    "sentence = [\"모자 특가 할인 중!\", \"선착순 1000명 족발 할인 쿠폰 쏜다!\",\n",
    "        \"오늘 한일전 8시, 치킨 먹지 않을래?\",\"제 5회 공항철도 공모전 개최 확인하기\",\n",
    "        \"마라탕이 논란이 된 이유\", \"마카롱 더이상 먹지 마세요.\", \"8월 작가와의 만남 신청하기\",\n",
    "        \"화제의 그 화장품, 피부에 엄청 안좋다고?\",\"유럽인들이 한국에 오면 꼭 사가는 화장품 리스트\",\n",
    "        \"오프라인 모임에 가입해보세요.\", \"영상시스템님이 시급 만원의 새 일감을 등록하였습니다.\",\n",
    "        \"서현동 근처에서 이번 주 핫했던 인기 매물을 만나보세요.\", \"오늘은 말복이니까 치킨 할인\",\n",
    "        \"이번 주 마음의 소리 보러가기\", \"새로운 친구 추천이 있습니다:조수은님\",\"워니아, 캐리어 일반 냉장고 한정수량 초특가!\",\n",
    "        \"블로그에 댓글이 달렸습니다.\", \"쪽지가 도착하였습니다.\",\"고객님께 비밀 쿠폰을 드렸어요\",\n",
    "        \"호르몬 주사 했더니 4.4kg 감소한 이유는?\",\"혀에 파인 자국으로 알 수 있는 상태\",\n",
    "        \"<오늘의 시> 너를 생각하는 일이 하루종일이다\",\"새 팔로워 1명이 있습니다.\",\n",
    "        \"김세종님이 라이브 방송을 시작했습니다. 지금 바로 시청하세요!\",\"최근에 김세종님이 스토리를 추가하였습니다.\",\n",
    "        \"서현동에 새로운 탁구 모임이 등록됐습니다. 어서 참가해보세요.\", \"달서 축구팀에서 대결 신청을 했습니다.\",\n",
    "        \"아이돌을 꿈꾸는 귀신과 에이핑크의 좌충우돌 숙소 생활!\", \"광활한 우주를 향한 인류의 도전을 VR로 생생하게 지켜보세요.\",\n",
    "        \"상큼한 라임향이 떠오르는 인디음악. 지니가 추천하는 오늘의 선곡\", \"주간 요약:지난주 광고 성과를 간단히 확인해보세요.\",\n",
    "        \"견학 방학숙제는 박물관 투어로 한방에 해결\", \"신입사원은 왜 싹싹해야 하나요?\", \"김준영님이 회원님의 게시글을 좋아합니다.\",\n",
    "        \"회원님에게만 드리는 비밀 쿠폰!\", \"해외직구 보조배터리 최초 할인\", \"킹오파 올스타 1단계:아이템 할인\", \"1억 모으고 싶은 20, 30대 모여라!\",\n",
    "        \"올리브영 플러스 친구 누구나 6000원 할인\",\"쿠팡 30일 무료배송 신청하기!\",\"역대급으로 힙한 신상템이 150개나 새로 들어왔어요.\",\n",
    "        \"김성현님이 보낸 퀴즈를 맞춰 보세요.\",\"홈 트레이닝으로 인간세계를 이롭게 하라\", \"장윤주 일상 루틴 총정리\",\n",
    "        \"살 빠지는 수면 시간이 있을까?\", \"메가박스 라이온킹 사은품 응모 이벤트\",\"나는 눈치를 많이 보는 타입일까? : 성격유형\",\n",
    "        \"에뛰드 라이브 방송이 시작되었습니다.\",\"벌써 최신 영화가? : 기생충\", '\"신경 쓰지 마\"를 영어로?', \"2시 전에 결제하면 오늘 배송!\",\n",
    "        \"혹시 사고 싶은 물건을 발견하셨나요? 판매자에게 연락해보세요.\",\"키높이 운동 시간입니다. 시작 해볼까요?\",\n",
    "        \"찌부찌부? 뭔 말인지 궁금하면 확인해봐!\",\"[오늘의 시] 지루한 여름날, 문득 떠올리는 것\",\n",
    "        \"꼼꼼하게 따져보고 똑똑하게 투자하기’ 캠페인 안내\",\"하이마트 삼성 노트북 9 항상 초특가 진행\",\n",
    "        \"지금 실시간 방문자 1위 둔촌주공아파트주택재건축의 분양 일정 알림을 구독해보세요!\",\n",
    "        \"집에서 미술 음악 체육 놀이 다 됩니다\",\"신규 멤버 오리엔테이션에 초대합니다.\",\"여행의 시작은 할인쿠폰 준비\",\n",
    "        \"티본 스테이크와 새우의 환상적 조합\",\"국내펜션 예약하면 카카오프렌즈 튜브 드립니다.\",\n",
    "        \"기숙학교에서 펼쳐지는 미스터리 스릴러\"]\n"
   ]
  },
  {
   "cell_type": "code",
   "execution_count": 44,
   "metadata": {},
   "outputs": [
    {
     "name": "stdout",
     "output_type": "stream",
     "text": [
      "['선착순', '1000', '명', '족발', '할인', '쿠폰', '쏜다']\n",
      "핵심 단어는 \n",
      "할인, 선착순, 족발, 쏜다, 입니다.\n",
      "['오늘', '한일전', '8시', '치킨', '먹다', '않다']\n",
      "핵심 단어는 \n",
      "치킨, 않다, 오늘, 8시, 입니다.\n",
      "['제', '5회', '공항철도', '공모전', '개최', '확인', '하다']\n",
      "핵심 단어는 \n",
      "확인, 개최, 공항철도, 공모전, 입니다.\n",
      "['마르다', '탕', '논란', '되다', '이유']\n",
      "핵심 단어는 \n",
      "이유, 마르다, 논란, 탕, 입니다.\n",
      "['마카롱', '더', '이상', '먹다', '말다']\n",
      "핵심 단어는 \n",
      "말다, 마카롱, 이상, 더, 입니다.\n",
      "['8월', '작가', '만남', '신청', '하다']\n",
      "핵심 단어는 \n",
      "만남, 신청, 작가, 8월, 입니다.\n",
      "['화제', '그', '화장품', '피부', '엄청', '안좋다']\n",
      "핵심 단어는 \n",
      "안좋다, 피부, 화제, 화장품, 입니다.\n",
      "['유럽인', '한국', '오다', '꼭', '사가다', '화장품', '리스트']\n",
      "핵심 단어는 \n",
      "한국, 사가다, 유럽인, 화장품, 입니다.\n",
      "키워드 4개를 추출하지 못하여 그대로 출력합니다.\n",
      "['오프라인', '모임', '가입', '해보다']\n"
     ]
    }
   ],
   "source": [
    "for sent in sentence[1:10]:\n",
    "    keyword(sent)"
   ]
  }
 ],
 "metadata": {
  "kernelspec": {
   "display_name": "Python 3",
   "language": "python",
   "name": "python3"
  },
  "language_info": {
   "codemirror_mode": {
    "name": "ipython",
    "version": 3
   },
   "file_extension": ".py",
   "mimetype": "text/x-python",
   "name": "python",
   "nbconvert_exporter": "python",
   "pygments_lexer": "ipython3",
   "version": "3.7.4"
  }
 },
 "nbformat": 4,
 "nbformat_minor": 2
}
